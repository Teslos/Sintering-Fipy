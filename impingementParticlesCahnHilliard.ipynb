{
 "cells": [
  {
   "cell_type": "code",
   "execution_count": 1,
   "metadata": {
    "collapsed": true
   },
   "outputs": [],
   "source": [
    "from fipy import *"
   ]
  },
  {
   "cell_type": "code",
   "execution_count": 2,
   "metadata": {
    "collapsed": true
   },
   "outputs": [],
   "source": [
    "steps = 100\n",
    "N = 60\n",
    "L = 2.5 * N / 100.\n",
    "dL = L / N\n",
    "mesh = Grid2D(dx = dL, dy = dL, nx = N, ny = N)\n"
   ]
  },
  {
   "cell_type": "code",
   "execution_count": 3,
   "metadata": {
    "collapsed": true
   },
   "outputs": [],
   "source": [
    "timeStepDuration = 0.02\n",
    "phaseTransientCoeff = 0.1\n",
    "thetaSmallValue = 1e-6\n",
    "beta = 1e5\n",
    "mu = 1e3\n",
    "thetaTransientCoeff = 0.01\n",
    "gamma = 1e3\n",
    "epsilon = 0.008\n",
    "s = 0.01\n",
    "phi0 = 0.5\n",
    "alpha = 0.015\n",
    "#alpha = 1.\n",
    "D = a = 0.015"
   ]
  },
  {
   "cell_type": "markdown",
   "metadata": {},
   "source": [
    "The system is held isothermal at"
   ]
  },
  {
   "cell_type": "code",
   "execution_count": 4,
   "metadata": {
    "collapsed": true
   },
   "outputs": [],
   "source": [
    "temperature = 0"
   ]
  },
  {
   "cell_type": "markdown",
   "metadata": {},
   "source": [
    "and is initialized to liquid everywhere:"
   ]
  },
  {
   "cell_type": "code",
   "execution_count": 5,
   "metadata": {
    "collapsed": true
   },
   "outputs": [],
   "source": [
    "phase = CellVariable(name = 'phase field', mesh = mesh)\n",
    "psi = CellVariable(name = r'$\\psi$', mesh = mesh)"
   ]
  },
  {
   "cell_type": "markdown",
   "metadata": {},
   "source": [
    "The orientation is initialized to a uniform value to denote the randomly \n",
    "oriented liquid phase."
   ]
  },
  {
   "cell_type": "code",
   "execution_count": 6,
   "metadata": {
    "collapsed": true
   },
   "outputs": [],
   "source": [
    "theta = ModularVariable(name=r'$\\theta$',mesh=mesh, value=-numerix.pi+0.0001,hasOld=True)"
   ]
  },
  {
   "cell_type": "markdown",
   "metadata": {},
   "source": [
    "Define different solid circular domains by random seeds"
   ]
  },
  {
   "cell_type": "code",
   "execution_count": 7,
   "metadata": {
    "collapsed": false
   },
   "outputs": [],
   "source": [
    "x, y = mesh.cellCenters\n",
    "numSeeds = 5\n",
    "numerix.random.seed(4235)\n",
    "for a, b, thetaValue in numerix.random.random([numSeeds,3]):\n",
    "#m = [[L/2.,L/2.,0.2],[L/2.,L/2.,0.3]]\n",
    "#for a, b, thetaValue in m:\n",
    "    radius = dL * 2.\n",
    "    segment = ((x-a*N*dL)**2 + (y-b*N*dL)**2) < radius\n",
    "    phase[segment] = 1.\n",
    "    theta[segment] = numerix.pi * (2*thetaValue-1)\n",
    "    "
   ]
  },
  {
   "cell_type": "markdown",
   "metadata": {},
   "source": [
    "Here we are solving Cahn-Hilliard equation comming from KWC model:\n",
    " \n",
    "$$\\tau_{\\phi}\\frac{\\partial\\phi}{\\partial\\theta}=\\nabla\\left (D\\nabla \\frac{\\delta F}{\\delta \\phi} \\right)=D \\nabla^2\\left(-\\alpha^2 \\nabla^2 \\phi+\\frac{\\partial f}{\\partial \\phi}+\\frac{\\partial g}{\\partial\\phi}s|\\nabla \\theta| + \\frac{\\partial h}{\\partial \\phi}\\frac{\\epsilon^2}{2}|\\nabla \\theta|^2 \\right)$$\n",
    "\n",
    "where:\n",
    "\n",
    "$$f(\\phi) = a*\\phi^2(1-\\phi)^2$$\n",
    "\n"
   ]
  },
  {
   "cell_type": "code",
   "execution_count": 8,
   "metadata": {
    "collapsed": true
   },
   "outputs": [],
   "source": [
    "def buildPhaseEquation(phase, theta):\n",
    "    mPhiVar1 = a**2 * phase *(1 - phase) * (1 - 2 * phase)\n",
    "    mPhiVar2 = a**2 * (1 - 6 * phase*(1-phase))\n",
    "    #mPhiVar1 = (phase - 0.5 + temperature) * phase *(1-phase)\n",
    "    #mPhiVar2 =  phase*(1-phase)+(phase - 0.5 + temperature)*(1-2*phase)\n",
    "    thetaMag = theta.old.grad.mag\n",
    "    implicitSource = mPhiVar2\n",
    "    implicitSource -= (2*s + epsilon**2 * thetaMag)*thetaMag\n",
    "    \n",
    "    eq1 = TransientTerm(var=phase,coeff=phaseTransientCoeff) == \\\n",
    "            DiffusionTerm(coeff=D,var=psi) \n",
    "    eq2 = ImplicitSourceTerm(coeff=1., var=psi) == \\\n",
    "            -DiffusionTerm(coeff=alpha**2,var=phase) \\\n",
    "            +ImplicitSourceTerm(coeff=implicitSource, var=phase) \\\n",
    "            +mPhiVar1 - mPhiVar2 * phase\n",
    "    return eq1 & eq2"
   ]
  },
  {
   "cell_type": "code",
   "execution_count": 9,
   "metadata": {
    "collapsed": false
   },
   "outputs": [],
   "source": [
    "phaseEq = buildPhaseEquation(phase, theta)"
   ]
  },
  {
   "cell_type": "markdown",
   "metadata": {},
   "source": [
    "The $\\theta$ equation is built in the following way. The details for this equation\n",
    "are provided by J.A.Warren *et.al. The main detail is that a source must be added\n",
    "to correct for discretization of $theta$ on the circle. The source term requires \n",
    "the evaluation of the face gradient without modular operator."
   ]
  },
  {
   "cell_type": "code",
   "execution_count": 10,
   "metadata": {
    "collapsed": false
   },
   "outputs": [],
   "source": [
    "def buildThetaEquation(phase, theta):\n",
    "    phaseMod = phase + ( phase < thetaSmallValue ) * thetaSmallValue\n",
    "    phaseModSq = phaseMod * phaseMod\n",
    "    expo = epsilon * beta * theta.grad.mag\n",
    "    expo = (expo < 100.) * (expo - 100.)+100.\n",
    "    pFunc = 1. + numerix.exp(-expo) * (mu / epsilon - 1.)\n",
    "    \n",
    "    phaseFace = phase.arithmeticFaceValue\n",
    "    phaseFaceSq = phaseFace * phaseFace\n",
    "    gradMag = theta.faceGrad.mag\n",
    "    eps = 1. / gamma / 10.\n",
    "    gradMag += (gradMag < eps) * eps\n",
    "    IGamma = (gradMag > 1. / gamma) * ( 1 * gradMag - gamma ) + gamma\n",
    "    diffusionCoeff = phaseFaceSq * (s * IGamma + epsilon**2)\n",
    "    \n",
    "    thetaGradDiff = theta.faceGrad - theta.faceGradNoMod\n",
    "    sourceCoeff = (diffusionCoeff * thetaGradDiff).divergence\n",
    "    \n",
    "    return TransientTerm(thetaTransientCoeff * phaseModSq * pFunc) == \\\n",
    "        DiffusionTerm(diffusionCoeff) + sourceCoeff\n",
    "    "
   ]
  },
  {
   "cell_type": "code",
   "execution_count": 11,
   "metadata": {
    "collapsed": false
   },
   "outputs": [],
   "source": [
    "thetaEq = buildThetaEquation(phase, theta)"
   ]
  },
  {
   "cell_type": "markdown",
   "metadata": {},
   "source": [
    "If example is run interactively, we create viewers for the phase and orientation variables.\n",
    "Rather than viewing the raw orientation, which is not meaningful in the liquid phase, we weight\n",
    "the orientation by the phase."
   ]
  },
  {
   "cell_type": "code",
   "execution_count": 12,
   "metadata": {
    "collapsed": true
   },
   "outputs": [],
   "source": [
    "if __name__ == '__main__':\n",
    "    phaseViewer = Viewer(vars=phase,datamin=0,datamax=1.)\n",
    "    thetaProd = -numerix.pi + phase * (theta + numerix.pi)\n",
    "    thetaProductViewer = Viewer(vars=theta, datamin=-numerix.pi, datamax=numerix.pi)\n",
    "    phaseViewer.plot()\n",
    "    thetaProductViewer.plot()\n",
    "    "
   ]
  },
  {
   "cell_type": "markdown",
   "metadata": {},
   "source": [
    "We step the solution in time, plotting as we go interactively"
   ]
  },
  {
   "cell_type": "code",
   "execution_count": 13,
   "metadata": {
    "collapsed": false
   },
   "outputs": [
    {
     "name": "stdout",
     "output_type": "stream",
     "text": [
      "step:  0\n",
      "step:  1\n",
      "step:  2\n",
      "step:  3\n",
      "step:  4\n",
      "step:  5\n",
      "step:  6\n",
      "step:  7\n",
      "step:  8\n",
      "step:  9\n",
      "step:  10\n",
      "step:  11\n",
      "step:  12\n",
      "step:  13\n",
      "step:  14\n",
      "step:  15\n",
      "step:  16\n",
      "step:  17\n",
      "step:  18\n",
      "step:  19\n",
      "step:  20\n",
      "step:  21\n",
      "step:  22\n",
      "step:  23\n",
      "step:  24\n",
      "step:  25\n",
      "step:  26\n",
      "step:  27\n",
      "step:  28\n",
      "step:  29\n",
      "step:  30\n",
      "step:  31\n",
      "step:  32\n",
      "step:  33\n",
      "step:  34\n",
      "step:  35\n",
      "step:  36\n",
      "step:  37\n",
      "step:  38\n",
      "step:  39\n",
      "step:  40\n",
      "step:  41\n",
      "step:  42\n",
      "step:  43\n",
      "step:  44\n",
      "step:  45\n",
      "step:  46\n",
      "step:  47\n",
      "step:  48\n",
      "step:  49\n",
      "step:  50\n",
      "step:  51\n",
      "step:  52\n",
      "step:  53\n",
      "step:  54\n",
      "step:  55\n",
      "step:  56\n",
      "step:  57\n",
      "step:  58\n",
      "step:  59\n",
      "step:  60\n",
      "step:  61\n",
      "step:  62\n",
      "step:  63\n",
      "step:  64\n",
      "step:  65\n",
      "step:  66\n",
      "step:  67\n",
      "step:  68\n",
      "step:  69\n",
      "step:  70\n",
      "step:  71\n",
      "step:  72\n",
      "step:  73\n",
      "step:  74\n",
      "step:  75\n",
      "step:  76\n",
      "step:  77\n",
      "step:  78\n",
      "step:  79\n",
      "step:  80\n",
      "step:  81\n",
      "step:  82\n",
      "step:  83\n",
      "step:  84\n",
      "step:  85\n",
      "step:  86\n",
      "step:  87\n",
      "step:  88\n",
      "step:  89\n",
      "step:  90\n",
      "step:  91\n",
      "step:  92\n",
      "step:  93\n",
      "step:  94\n",
      "step:  95\n",
      "step:  96\n",
      "step:  97\n",
      "step:  98\n",
      "step:  99\n"
     ]
    }
   ],
   "source": [
    "for i in range(steps):\n",
    "    theta.updateOld()\n",
    "    thetaEq.solve(theta, dt=timeStepDuration)\n",
    "    phaseEq.solve(dt=timeStepDuration)\n",
    "    if __name__ == '__main__':\n",
    "        phaseViewer.plot()\n",
    "        thetaProductViewer.plot()\n",
    "        print \"step: \", i\n",
    "        "
   ]
  },
  {
   "cell_type": "code",
   "execution_count": null,
   "metadata": {
    "collapsed": true
   },
   "outputs": [],
   "source": []
  }
 ],
 "metadata": {
  "kernelspec": {
   "display_name": "Python 2",
   "language": "python",
   "name": "python2"
  },
  "language_info": {
   "codemirror_mode": {
    "name": "ipython",
    "version": 2
   },
   "file_extension": ".py",
   "mimetype": "text/x-python",
   "name": "python",
   "nbconvert_exporter": "python",
   "pygments_lexer": "ipython2",
   "version": "2.7.10"
  }
 },
 "nbformat": 4,
 "nbformat_minor": 0
}
